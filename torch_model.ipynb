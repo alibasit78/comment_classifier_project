{
 "cells": [
  {
   "cell_type": "code",
   "execution_count": 7,
   "metadata": {},
   "outputs": [],
   "source": [
    "import torch\n",
    "import torch.nn as nn\n",
    "import random\n",
    "random.seed(42)"
   ]
  },
  {
   "cell_type": "code",
   "execution_count": 39,
   "metadata": {},
   "outputs": [
    {
     "name": "stdout",
     "output_type": "stream",
     "text": [
      "tensor([[-0.5061,  1.4615, -0.3117, -1.7064]]) torch.Size([1, 4])\n",
      "tensor([-1.0627])\n",
      "tensor([[-0.5061,  1.4615, -0.3117, -1.7064]])\n",
      "tensor([[-0.5061,  1.4615, -0.3117, -1.7064]])\n"
     ]
    }
   ],
   "source": [
    "# X = torch.randn((4, 8))\n",
    "# logits = torch.randn((8,4))  #Batch_size, num_classes\n",
    "logits = torch.randn((1,4))  #Batch_size, num_classes\n",
    "softmax = nn.Softmax(dim=1)\n",
    "# pred_y = softmax(logits)\n",
    "pred_y = logits\n",
    "print(pred_y, pred_y.shape)\n",
    "print(torch.sum(pred_y, axis = 1))\n",
    "print(pred_y)\n",
    "print(logits)"
   ]
  },
  {
   "cell_type": "code",
   "execution_count": 40,
   "metadata": {},
   "outputs": [
    {
     "name": "stdout",
     "output_type": "stream",
     "text": [
      "true label: tensor([0]), torch.Size([1])\n",
      "pred label: tensor([[-0.5061,  1.4615, -0.3117, -1.7064]]), torch.Size([1, 4])\n"
     ]
    }
   ],
   "source": [
    "\n",
    "# true_label = torch.randint(4, (8,), dtype=torch.int64)\n",
    "true_label = torch.randint(4, (1,), dtype=torch.int64)\n",
    "pred_label = pred_y\n",
    "print(f'true label: {true_label}, {true_label.shape}')\n",
    "print(f'pred label: {pred_label}, {pred_label.shape}')"
   ]
  },
  {
   "cell_type": "code",
   "execution_count": 41,
   "metadata": {},
   "outputs": [
    {
     "data": {
      "text/plain": [
       "tensor(2.2689)"
      ]
     },
     "execution_count": 41,
     "metadata": {},
     "output_type": "execute_result"
    }
   ],
   "source": [
    "loss_fn = nn.CrossEntropyLoss()\n",
    "loss_fn(pred_y, true_label)"
   ]
  },
  {
   "cell_type": "code",
   "execution_count": 42,
   "metadata": {},
   "outputs": [
    {
     "data": {
      "text/plain": [
       "tensor([[0.1034, 0.7398, 0.1256, 0.0311]])"
      ]
     },
     "execution_count": 42,
     "metadata": {},
     "output_type": "execute_result"
    }
   ],
   "source": [
    "pred_sm = softmax(pred_label)\n",
    "pred_sm"
   ]
  },
  {
   "cell_type": "code",
   "execution_count": 43,
   "metadata": {},
   "outputs": [
    {
     "data": {
      "text/plain": [
       "tensor([[-2.2689, -0.3014, -2.0745, -3.4692]])"
      ]
     },
     "execution_count": 43,
     "metadata": {},
     "output_type": "execute_result"
    }
   ],
   "source": [
    "torch.log(pred_sm)"
   ]
  },
  {
   "cell_type": "code",
   "execution_count": null,
   "metadata": {},
   "outputs": [],
   "source": []
  }
 ],
 "metadata": {
  "kernelspec": {
   "display_name": "kaggle_env",
   "language": "python",
   "name": "python3"
  },
  "language_info": {
   "codemirror_mode": {
    "name": "ipython",
    "version": 3
   },
   "file_extension": ".py",
   "mimetype": "text/x-python",
   "name": "python",
   "nbconvert_exporter": "python",
   "pygments_lexer": "ipython3",
   "version": "3.9.18"
  }
 },
 "nbformat": 4,
 "nbformat_minor": 2
}
